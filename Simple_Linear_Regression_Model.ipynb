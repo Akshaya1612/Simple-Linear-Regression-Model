{
  "nbformat": 4,
  "nbformat_minor": 0,
  "metadata": {
    "colab": {
      "provenance": [],
      "authorship_tag": "ABX9TyPjwqLuMvc2ocPQg5mAsXzY"
    },
    "kernelspec": {
      "name": "python3",
      "display_name": "Python 3"
    },
    "language_info": {
      "name": "python"
    }
  },
  "cells": [
    {
      "cell_type": "code",
      "execution_count": null,
      "metadata": {
        "id": "OkmKPpjQoD-C"
      },
      "outputs": [],
      "source": [
        "import warnings\n",
        "warnings.simplefilter(\"ignore\")"
      ]
    },
    {
      "cell_type": "code",
      "source": [
        "import numpy as np\n",
        "import pandas as pd"
      ],
      "metadata": {
        "id": "7tfwtPKurLY3"
      },
      "execution_count": null,
      "outputs": []
    },
    {
      "cell_type": "code",
      "source": [
        "import matplotlib.pyplot as plt\n",
        "%matplotlib inline"
      ],
      "metadata": {
        "id": "QCROnifXsa7k"
      },
      "execution_count": null,
      "outputs": []
    },
    {
      "cell_type": "code",
      "source": [
        "dataset = pd.read_csv(\"Admission_Predict_Ver1.1.csv\")"
      ],
      "metadata": {
        "id": "kxUvJjQzs2tQ"
      },
      "execution_count": null,
      "outputs": []
    },
    {
      "cell_type": "code",
      "source": [
        "dataset"
      ],
      "metadata": {
        "id": "1x1TvokWtewS"
      },
      "execution_count": null,
      "outputs": []
    },
    {
      "cell_type": "code",
      "source": [
        "dataset.shape"
      ],
      "metadata": {
        "id": "oVEKsvG_ufZ6"
      },
      "execution_count": null,
      "outputs": []
    },
    {
      "cell_type": "code",
      "source": [
        "dataset.head()"
      ],
      "metadata": {
        "id": "hL1X2kG8uywE"
      },
      "execution_count": null,
      "outputs": []
    },
    {
      "cell_type": "code",
      "source": [
        "dataset.tail()"
      ],
      "metadata": {
        "id": "ZUlIfFj9u67X"
      },
      "execution_count": null,
      "outputs": []
    },
    {
      "cell_type": "code",
      "source": [
        "dataset1 = dataset.drop(['Serial No.','TOEFL Score','University Rating','SOP','LOR ' ,'CGPA','Research'],axis = 1)"
      ],
      "metadata": {
        "id": "k5A_eww1vANr"
      },
      "execution_count": null,
      "outputs": []
    },
    {
      "cell_type": "code",
      "source": [
        "dataset1"
      ],
      "metadata": {
        "id": "7chPmguywyP-"
      },
      "execution_count": null,
      "outputs": []
    },
    {
      "cell_type": "code",
      "source": [
        "import pandas as pd\n",
        "#create a dataframe\n",
        "data = {'A': [10,20,30], 'B': [40,50,60]}\n",
        "df = pd.DataFrame(data, index=['row1','row2','row3'])\n",
        "print(df)\n",
        "#Access a single row using label\n",
        "print(df.loc['row1'])\n",
        "\n",
        "#Access multiple rows using label slicing\n",
        "print(df.loc['row1':'row2'])\n",
        "\n",
        "#Access specific rows and columns\n",
        "print(df.loc[['row1', 'row3'], ['A']])\n",
        "\n",
        "#use a boolean mask\n",
        "mask = df['A'] > 20\n",
        "print(df.loc[mask])"
      ],
      "metadata": {
        "id": "v9wLc_TpxBzK"
      },
      "execution_count": null,
      "outputs": []
    },
    {
      "cell_type": "code",
      "source": [
        "#access a single row using integer index\n",
        "print(df.iloc[0])\n",
        "\n",
        "#access multiple rows\n",
        "print(df.iloc[0:2],)\n",
        "\n",
        "#access specific rows and columns\n",
        "print(df.iloc[[0,2], [0]])\n",
        "\n",
        "#use a boolean mask\n",
        "mask = df.iloc[:,0] > 20\n",
        "print(df.iloc[mask.values])"
      ],
      "metadata": {
        "id": "illlPbb41ErU"
      },
      "execution_count": null,
      "outputs": []
    },
    {
      "cell_type": "code",
      "source": [
        "x = dataset1.iloc[:,0].values.reshape(-1,1)"
      ],
      "metadata": {
        "id": "W80BEoAR3Gxn"
      },
      "execution_count": null,
      "outputs": []
    },
    {
      "cell_type": "code",
      "source": [
        "x.shape"
      ],
      "metadata": {
        "id": "6I4VqfxZ3mO8"
      },
      "execution_count": null,
      "outputs": []
    },
    {
      "cell_type": "code",
      "source": [
        "y = dataset1.iloc[:,1].values.reshape(-1,1)"
      ],
      "metadata": {
        "id": "dQnLPJpp3plQ"
      },
      "execution_count": null,
      "outputs": []
    },
    {
      "cell_type": "code",
      "source": [
        "y.shape"
      ],
      "metadata": {
        "id": "tNik44Sh3y0V"
      },
      "execution_count": null,
      "outputs": []
    },
    {
      "cell_type": "code",
      "source": [
        "plt.scatter(x,y)\n",
        "plt.show()"
      ],
      "metadata": {
        "id": "eRM6Xuu331hR"
      },
      "execution_count": null,
      "outputs": []
    },
    {
      "cell_type": "code",
      "source": [
        "from sklearn.model_selection import train_test_split"
      ],
      "metadata": {
        "id": "GcESC0-B4gNk"
      },
      "execution_count": null,
      "outputs": []
    },
    {
      "cell_type": "code",
      "source": [
        "x_train,x_test,y_train,y_test = train_test_split(x,y,test_size = 0.2,random_state = 0)"
      ],
      "metadata": {
        "id": "KMjolCB74wC6"
      },
      "execution_count": null,
      "outputs": []
    },
    {
      "cell_type": "code",
      "source": [
        "x_train.shape"
      ],
      "metadata": {
        "id": "HpHX0A_J5_x3"
      },
      "execution_count": null,
      "outputs": []
    },
    {
      "cell_type": "code",
      "source": [
        "y_train.shape"
      ],
      "metadata": {
        "id": "w9GWddeh7BMd"
      },
      "execution_count": null,
      "outputs": []
    },
    {
      "cell_type": "code",
      "source": [
        "x_test.shape"
      ],
      "metadata": {
        "id": "KmZ0c5TM7F0v"
      },
      "execution_count": null,
      "outputs": []
    },
    {
      "cell_type": "code",
      "source": [
        "y_test.shape"
      ],
      "metadata": {
        "id": "2k433LiF7S-E"
      },
      "execution_count": null,
      "outputs": []
    },
    {
      "cell_type": "code",
      "source": [
        "from sklearn.linear_model import LinearRegression"
      ],
      "metadata": {
        "id": "nUOv5l-e7by2"
      },
      "execution_count": null,
      "outputs": []
    },
    {
      "cell_type": "code",
      "source": [
        "lm=LinearRegression()"
      ],
      "metadata": {
        "id": "b_ZIFRQb7odP"
      },
      "execution_count": null,
      "outputs": []
    },
    {
      "cell_type": "code",
      "source": [
        "lm.fit(x_train,y_train)"
      ],
      "metadata": {
        "id": "WrWrtJFG70VA"
      },
      "execution_count": null,
      "outputs": []
    },
    {
      "cell_type": "code",
      "source": [
        "y_pred = lm.predict(x_test)"
      ],
      "metadata": {
        "id": "RvuqjJgb8Ocf"
      },
      "execution_count": null,
      "outputs": []
    },
    {
      "cell_type": "code",
      "source": [
        "y_pred"
      ],
      "metadata": {
        "id": "EJ5IdA7P8Xpf"
      },
      "execution_count": null,
      "outputs": []
    },
    {
      "cell_type": "code",
      "source": [
        "Check=pd.DataFrame(x_)"
      ],
      "metadata": {
        "id": "Aq7Q8C-188u7"
      },
      "execution_count": null,
      "outputs": []
    }
  ]
}